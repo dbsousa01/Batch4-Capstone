{
 "cells": [
  {
   "cell_type": "markdown",
   "id": "charged-cycle",
   "metadata": {},
   "source": [
    "# Notebook to analyse the discrimination in the dataset about who is stopped"
   ]
  },
  {
   "cell_type": "code",
   "execution_count": 101,
   "id": "convertible-highway",
   "metadata": {},
   "outputs": [],
   "source": [
    "import numpy as np\n",
    "import pandas as pd\n",
    "import matplotlib.pyplot as plt"
   ]
  },
  {
   "cell_type": "code",
   "execution_count": 16,
   "id": "characteristic-harrison",
   "metadata": {},
   "outputs": [
    {
     "data": {
      "text/html": [
       "<div>\n",
       "<style scoped>\n",
       "    .dataframe tbody tr th:only-of-type {\n",
       "        vertical-align: middle;\n",
       "    }\n",
       "\n",
       "    .dataframe tbody tr th {\n",
       "        vertical-align: top;\n",
       "    }\n",
       "\n",
       "    .dataframe thead th {\n",
       "        text-align: right;\n",
       "    }\n",
       "</style>\n",
       "<table border=\"1\" class=\"dataframe\">\n",
       "  <thead>\n",
       "    <tr style=\"text-align: right;\">\n",
       "      <th></th>\n",
       "      <th>Type</th>\n",
       "      <th>Date</th>\n",
       "      <th>Part of a policing operation</th>\n",
       "      <th>Latitude</th>\n",
       "      <th>Longitude</th>\n",
       "      <th>Gender</th>\n",
       "      <th>Age range</th>\n",
       "      <th>Self-defined ethnicity</th>\n",
       "      <th>Officer-defined ethnicity</th>\n",
       "      <th>Legislation</th>\n",
       "      <th>Object of search</th>\n",
       "      <th>Outcome</th>\n",
       "      <th>Outcome linked to object of search</th>\n",
       "      <th>Removal of more than just outer clothing</th>\n",
       "      <th>station</th>\n",
       "    </tr>\n",
       "    <tr>\n",
       "      <th>observation_id</th>\n",
       "      <th></th>\n",
       "      <th></th>\n",
       "      <th></th>\n",
       "      <th></th>\n",
       "      <th></th>\n",
       "      <th></th>\n",
       "      <th></th>\n",
       "      <th></th>\n",
       "      <th></th>\n",
       "      <th></th>\n",
       "      <th></th>\n",
       "      <th></th>\n",
       "      <th></th>\n",
       "      <th></th>\n",
       "      <th></th>\n",
       "    </tr>\n",
       "  </thead>\n",
       "  <tbody>\n",
       "    <tr>\n",
       "      <th>34d76816-cfc2-4bdd-b3a2-bf0c40b12689</th>\n",
       "      <td>Person search</td>\n",
       "      <td>2019-12-01T00:00:00+00:00</td>\n",
       "      <td>True</td>\n",
       "      <td>NaN</td>\n",
       "      <td>NaN</td>\n",
       "      <td>Male</td>\n",
       "      <td>18-24</td>\n",
       "      <td>Asian/Asian British - Any other Asian background</td>\n",
       "      <td>Asian</td>\n",
       "      <td>Misuse of Drugs Act 1971 (section 23)</td>\n",
       "      <td>Controlled drugs</td>\n",
       "      <td>A no further action disposal</td>\n",
       "      <td>NaN</td>\n",
       "      <td>False</td>\n",
       "      <td>devon-and-cornwall</td>\n",
       "    </tr>\n",
       "    <tr>\n",
       "      <th>83c87ec1-e6d4-4bbb-8e0c-159516706359</th>\n",
       "      <td>Person search</td>\n",
       "      <td>2019-12-01T00:09:00+00:00</td>\n",
       "      <td>True</td>\n",
       "      <td>NaN</td>\n",
       "      <td>NaN</td>\n",
       "      <td>Male</td>\n",
       "      <td>18-24</td>\n",
       "      <td>NaN</td>\n",
       "      <td>White</td>\n",
       "      <td>Misuse of Drugs Act 1971 (section 23)</td>\n",
       "      <td>Controlled drugs</td>\n",
       "      <td>A no further action disposal</td>\n",
       "      <td>NaN</td>\n",
       "      <td>False</td>\n",
       "      <td>devon-and-cornwall</td>\n",
       "    </tr>\n",
       "    <tr>\n",
       "      <th>8c2eae4b-035a-492f-92d6-cd27e6c900a1</th>\n",
       "      <td>Person search</td>\n",
       "      <td>2019-12-01T00:10:00+00:00</td>\n",
       "      <td>True</td>\n",
       "      <td>NaN</td>\n",
       "      <td>NaN</td>\n",
       "      <td>Female</td>\n",
       "      <td>18-24</td>\n",
       "      <td>White - English/Welsh/Scottish/Northern Irish/...</td>\n",
       "      <td>White</td>\n",
       "      <td>Misuse of Drugs Act 1971 (section 23)</td>\n",
       "      <td>Controlled drugs</td>\n",
       "      <td>A no further action disposal</td>\n",
       "      <td>NaN</td>\n",
       "      <td>False</td>\n",
       "      <td>devon-and-cornwall</td>\n",
       "    </tr>\n",
       "    <tr>\n",
       "      <th>e63a036a-a728-4efe-8e08-7198f56d6d0a</th>\n",
       "      <td>Person search</td>\n",
       "      <td>2019-12-01T00:10:00+00:00</td>\n",
       "      <td>False</td>\n",
       "      <td>NaN</td>\n",
       "      <td>NaN</td>\n",
       "      <td>Male</td>\n",
       "      <td>18-24</td>\n",
       "      <td>NaN</td>\n",
       "      <td>Asian</td>\n",
       "      <td>Misuse of Drugs Act 1971 (section 23)</td>\n",
       "      <td>Controlled drugs</td>\n",
       "      <td>A no further action disposal</td>\n",
       "      <td>NaN</td>\n",
       "      <td>False</td>\n",
       "      <td>devon-and-cornwall</td>\n",
       "    </tr>\n",
       "    <tr>\n",
       "      <th>40c70aca-1f7f-4efe-8c5b-ade0f2e9937d</th>\n",
       "      <td>Person search</td>\n",
       "      <td>2019-12-01T00:12:00+00:00</td>\n",
       "      <td>True</td>\n",
       "      <td>50.368247</td>\n",
       "      <td>-4.126646</td>\n",
       "      <td>Male</td>\n",
       "      <td>18-24</td>\n",
       "      <td>NaN</td>\n",
       "      <td>White</td>\n",
       "      <td>Misuse of Drugs Act 1971 (section 23)</td>\n",
       "      <td>Controlled drugs</td>\n",
       "      <td>A no further action disposal</td>\n",
       "      <td>NaN</td>\n",
       "      <td>False</td>\n",
       "      <td>devon-and-cornwall</td>\n",
       "    </tr>\n",
       "    <tr>\n",
       "      <th>...</th>\n",
       "      <td>...</td>\n",
       "      <td>...</td>\n",
       "      <td>...</td>\n",
       "      <td>...</td>\n",
       "      <td>...</td>\n",
       "      <td>...</td>\n",
       "      <td>...</td>\n",
       "      <td>...</td>\n",
       "      <td>...</td>\n",
       "      <td>...</td>\n",
       "      <td>...</td>\n",
       "      <td>...</td>\n",
       "      <td>...</td>\n",
       "      <td>...</td>\n",
       "      <td>...</td>\n",
       "    </tr>\n",
       "    <tr>\n",
       "      <th>a23dc59d-29fe-48e5-b012-81feb6acfddf</th>\n",
       "      <td>Person search</td>\n",
       "      <td>2018-08-29T02:45:00+00:00</td>\n",
       "      <td>NaN</td>\n",
       "      <td>NaN</td>\n",
       "      <td>NaN</td>\n",
       "      <td>Male</td>\n",
       "      <td>18-24</td>\n",
       "      <td>White - English/Welsh/Scottish/Northern Irish/...</td>\n",
       "      <td>White</td>\n",
       "      <td>Misuse of Drugs Act 1971 (section 23)</td>\n",
       "      <td>Controlled drugs</td>\n",
       "      <td>A no further action disposal</td>\n",
       "      <td>NaN</td>\n",
       "      <td>NaN</td>\n",
       "      <td>wiltshire</td>\n",
       "    </tr>\n",
       "    <tr>\n",
       "      <th>425fde18-f7d5-4ebe-baf4-714cadd5a445</th>\n",
       "      <td>Person and Vehicle search</td>\n",
       "      <td>2018-08-29T21:00:00+00:00</td>\n",
       "      <td>False</td>\n",
       "      <td>51.540219</td>\n",
       "      <td>-1.764708</td>\n",
       "      <td>Male</td>\n",
       "      <td>18-24</td>\n",
       "      <td>White - English/Welsh/Scottish/Northern Irish/...</td>\n",
       "      <td>White</td>\n",
       "      <td>Misuse of Drugs Act 1971 (section 23)</td>\n",
       "      <td>Controlled drugs</td>\n",
       "      <td>Penalty Notice for Disorder</td>\n",
       "      <td>True</td>\n",
       "      <td>False</td>\n",
       "      <td>wiltshire</td>\n",
       "    </tr>\n",
       "    <tr>\n",
       "      <th>7c249ab7-d4bf-47ef-86bd-aad51d7d2aab</th>\n",
       "      <td>Person search</td>\n",
       "      <td>2018-08-29T21:10:00+00:00</td>\n",
       "      <td>False</td>\n",
       "      <td>51.540219</td>\n",
       "      <td>-1.764708</td>\n",
       "      <td>Male</td>\n",
       "      <td>18-24</td>\n",
       "      <td>White - English/Welsh/Scottish/Northern Irish/...</td>\n",
       "      <td>White</td>\n",
       "      <td>Misuse of Drugs Act 1971 (section 23)</td>\n",
       "      <td>Controlled drugs</td>\n",
       "      <td>A no further action disposal</td>\n",
       "      <td>NaN</td>\n",
       "      <td>False</td>\n",
       "      <td>wiltshire</td>\n",
       "    </tr>\n",
       "    <tr>\n",
       "      <th>4fa54513-20c4-4a53-a5db-8a4bb85b1e32</th>\n",
       "      <td>Person search</td>\n",
       "      <td>2018-08-29T21:15:00+00:00</td>\n",
       "      <td>False</td>\n",
       "      <td>51.540219</td>\n",
       "      <td>-1.764708</td>\n",
       "      <td>Male</td>\n",
       "      <td>18-24</td>\n",
       "      <td>White - English/Welsh/Scottish/Northern Irish/...</td>\n",
       "      <td>White</td>\n",
       "      <td>Misuse of Drugs Act 1971 (section 23)</td>\n",
       "      <td>Controlled drugs</td>\n",
       "      <td>A no further action disposal</td>\n",
       "      <td>NaN</td>\n",
       "      <td>False</td>\n",
       "      <td>wiltshire</td>\n",
       "    </tr>\n",
       "    <tr>\n",
       "      <th>4d8604d3-9864-4fd5-a811-f8ce7bed619a</th>\n",
       "      <td>Person search</td>\n",
       "      <td>2018-08-30T13:15:00+00:00</td>\n",
       "      <td>NaN</td>\n",
       "      <td>NaN</td>\n",
       "      <td>NaN</td>\n",
       "      <td>Female</td>\n",
       "      <td>over 34</td>\n",
       "      <td>White - English/Welsh/Scottish/Northern Irish/...</td>\n",
       "      <td>White</td>\n",
       "      <td>Misuse of Drugs Act 1971 (section 23)</td>\n",
       "      <td>Controlled drugs</td>\n",
       "      <td>Caution (simple or conditional)</td>\n",
       "      <td>NaN</td>\n",
       "      <td>NaN</td>\n",
       "      <td>wiltshire</td>\n",
       "    </tr>\n",
       "  </tbody>\n",
       "</table>\n",
       "<p>660611 rows × 15 columns</p>\n",
       "</div>"
      ],
      "text/plain": [
       "                                                           Type  \\\n",
       "observation_id                                                    \n",
       "34d76816-cfc2-4bdd-b3a2-bf0c40b12689              Person search   \n",
       "83c87ec1-e6d4-4bbb-8e0c-159516706359              Person search   \n",
       "8c2eae4b-035a-492f-92d6-cd27e6c900a1              Person search   \n",
       "e63a036a-a728-4efe-8e08-7198f56d6d0a              Person search   \n",
       "40c70aca-1f7f-4efe-8c5b-ade0f2e9937d              Person search   \n",
       "...                                                         ...   \n",
       "a23dc59d-29fe-48e5-b012-81feb6acfddf              Person search   \n",
       "425fde18-f7d5-4ebe-baf4-714cadd5a445  Person and Vehicle search   \n",
       "7c249ab7-d4bf-47ef-86bd-aad51d7d2aab              Person search   \n",
       "4fa54513-20c4-4a53-a5db-8a4bb85b1e32              Person search   \n",
       "4d8604d3-9864-4fd5-a811-f8ce7bed619a              Person search   \n",
       "\n",
       "                                                           Date  \\\n",
       "observation_id                                                    \n",
       "34d76816-cfc2-4bdd-b3a2-bf0c40b12689  2019-12-01T00:00:00+00:00   \n",
       "83c87ec1-e6d4-4bbb-8e0c-159516706359  2019-12-01T00:09:00+00:00   \n",
       "8c2eae4b-035a-492f-92d6-cd27e6c900a1  2019-12-01T00:10:00+00:00   \n",
       "e63a036a-a728-4efe-8e08-7198f56d6d0a  2019-12-01T00:10:00+00:00   \n",
       "40c70aca-1f7f-4efe-8c5b-ade0f2e9937d  2019-12-01T00:12:00+00:00   \n",
       "...                                                         ...   \n",
       "a23dc59d-29fe-48e5-b012-81feb6acfddf  2018-08-29T02:45:00+00:00   \n",
       "425fde18-f7d5-4ebe-baf4-714cadd5a445  2018-08-29T21:00:00+00:00   \n",
       "7c249ab7-d4bf-47ef-86bd-aad51d7d2aab  2018-08-29T21:10:00+00:00   \n",
       "4fa54513-20c4-4a53-a5db-8a4bb85b1e32  2018-08-29T21:15:00+00:00   \n",
       "4d8604d3-9864-4fd5-a811-f8ce7bed619a  2018-08-30T13:15:00+00:00   \n",
       "\n",
       "                                     Part of a policing operation   Latitude  \\\n",
       "observation_id                                                                 \n",
       "34d76816-cfc2-4bdd-b3a2-bf0c40b12689                         True        NaN   \n",
       "83c87ec1-e6d4-4bbb-8e0c-159516706359                         True        NaN   \n",
       "8c2eae4b-035a-492f-92d6-cd27e6c900a1                         True        NaN   \n",
       "e63a036a-a728-4efe-8e08-7198f56d6d0a                        False        NaN   \n",
       "40c70aca-1f7f-4efe-8c5b-ade0f2e9937d                         True  50.368247   \n",
       "...                                                           ...        ...   \n",
       "a23dc59d-29fe-48e5-b012-81feb6acfddf                          NaN        NaN   \n",
       "425fde18-f7d5-4ebe-baf4-714cadd5a445                        False  51.540219   \n",
       "7c249ab7-d4bf-47ef-86bd-aad51d7d2aab                        False  51.540219   \n",
       "4fa54513-20c4-4a53-a5db-8a4bb85b1e32                        False  51.540219   \n",
       "4d8604d3-9864-4fd5-a811-f8ce7bed619a                          NaN        NaN   \n",
       "\n",
       "                                      Longitude  Gender Age range  \\\n",
       "observation_id                                                      \n",
       "34d76816-cfc2-4bdd-b3a2-bf0c40b12689        NaN    Male     18-24   \n",
       "83c87ec1-e6d4-4bbb-8e0c-159516706359        NaN    Male     18-24   \n",
       "8c2eae4b-035a-492f-92d6-cd27e6c900a1        NaN  Female     18-24   \n",
       "e63a036a-a728-4efe-8e08-7198f56d6d0a        NaN    Male     18-24   \n",
       "40c70aca-1f7f-4efe-8c5b-ade0f2e9937d  -4.126646    Male     18-24   \n",
       "...                                         ...     ...       ...   \n",
       "a23dc59d-29fe-48e5-b012-81feb6acfddf        NaN    Male     18-24   \n",
       "425fde18-f7d5-4ebe-baf4-714cadd5a445  -1.764708    Male     18-24   \n",
       "7c249ab7-d4bf-47ef-86bd-aad51d7d2aab  -1.764708    Male     18-24   \n",
       "4fa54513-20c4-4a53-a5db-8a4bb85b1e32  -1.764708    Male     18-24   \n",
       "4d8604d3-9864-4fd5-a811-f8ce7bed619a        NaN  Female   over 34   \n",
       "\n",
       "                                                                 Self-defined ethnicity  \\\n",
       "observation_id                                                                            \n",
       "34d76816-cfc2-4bdd-b3a2-bf0c40b12689   Asian/Asian British - Any other Asian background   \n",
       "83c87ec1-e6d4-4bbb-8e0c-159516706359                                                NaN   \n",
       "8c2eae4b-035a-492f-92d6-cd27e6c900a1  White - English/Welsh/Scottish/Northern Irish/...   \n",
       "e63a036a-a728-4efe-8e08-7198f56d6d0a                                                NaN   \n",
       "40c70aca-1f7f-4efe-8c5b-ade0f2e9937d                                                NaN   \n",
       "...                                                                                 ...   \n",
       "a23dc59d-29fe-48e5-b012-81feb6acfddf  White - English/Welsh/Scottish/Northern Irish/...   \n",
       "425fde18-f7d5-4ebe-baf4-714cadd5a445  White - English/Welsh/Scottish/Northern Irish/...   \n",
       "7c249ab7-d4bf-47ef-86bd-aad51d7d2aab  White - English/Welsh/Scottish/Northern Irish/...   \n",
       "4fa54513-20c4-4a53-a5db-8a4bb85b1e32  White - English/Welsh/Scottish/Northern Irish/...   \n",
       "4d8604d3-9864-4fd5-a811-f8ce7bed619a  White - English/Welsh/Scottish/Northern Irish/...   \n",
       "\n",
       "                                     Officer-defined ethnicity  \\\n",
       "observation_id                                                   \n",
       "34d76816-cfc2-4bdd-b3a2-bf0c40b12689                     Asian   \n",
       "83c87ec1-e6d4-4bbb-8e0c-159516706359                     White   \n",
       "8c2eae4b-035a-492f-92d6-cd27e6c900a1                     White   \n",
       "e63a036a-a728-4efe-8e08-7198f56d6d0a                     Asian   \n",
       "40c70aca-1f7f-4efe-8c5b-ade0f2e9937d                     White   \n",
       "...                                                        ...   \n",
       "a23dc59d-29fe-48e5-b012-81feb6acfddf                     White   \n",
       "425fde18-f7d5-4ebe-baf4-714cadd5a445                     White   \n",
       "7c249ab7-d4bf-47ef-86bd-aad51d7d2aab                     White   \n",
       "4fa54513-20c4-4a53-a5db-8a4bb85b1e32                     White   \n",
       "4d8604d3-9864-4fd5-a811-f8ce7bed619a                     White   \n",
       "\n",
       "                                                                Legislation  \\\n",
       "observation_id                                                                \n",
       "34d76816-cfc2-4bdd-b3a2-bf0c40b12689  Misuse of Drugs Act 1971 (section 23)   \n",
       "83c87ec1-e6d4-4bbb-8e0c-159516706359  Misuse of Drugs Act 1971 (section 23)   \n",
       "8c2eae4b-035a-492f-92d6-cd27e6c900a1  Misuse of Drugs Act 1971 (section 23)   \n",
       "e63a036a-a728-4efe-8e08-7198f56d6d0a  Misuse of Drugs Act 1971 (section 23)   \n",
       "40c70aca-1f7f-4efe-8c5b-ade0f2e9937d  Misuse of Drugs Act 1971 (section 23)   \n",
       "...                                                                     ...   \n",
       "a23dc59d-29fe-48e5-b012-81feb6acfddf  Misuse of Drugs Act 1971 (section 23)   \n",
       "425fde18-f7d5-4ebe-baf4-714cadd5a445  Misuse of Drugs Act 1971 (section 23)   \n",
       "7c249ab7-d4bf-47ef-86bd-aad51d7d2aab  Misuse of Drugs Act 1971 (section 23)   \n",
       "4fa54513-20c4-4a53-a5db-8a4bb85b1e32  Misuse of Drugs Act 1971 (section 23)   \n",
       "4d8604d3-9864-4fd5-a811-f8ce7bed619a  Misuse of Drugs Act 1971 (section 23)   \n",
       "\n",
       "                                      Object of search  \\\n",
       "observation_id                                           \n",
       "34d76816-cfc2-4bdd-b3a2-bf0c40b12689  Controlled drugs   \n",
       "83c87ec1-e6d4-4bbb-8e0c-159516706359  Controlled drugs   \n",
       "8c2eae4b-035a-492f-92d6-cd27e6c900a1  Controlled drugs   \n",
       "e63a036a-a728-4efe-8e08-7198f56d6d0a  Controlled drugs   \n",
       "40c70aca-1f7f-4efe-8c5b-ade0f2e9937d  Controlled drugs   \n",
       "...                                                ...   \n",
       "a23dc59d-29fe-48e5-b012-81feb6acfddf  Controlled drugs   \n",
       "425fde18-f7d5-4ebe-baf4-714cadd5a445  Controlled drugs   \n",
       "7c249ab7-d4bf-47ef-86bd-aad51d7d2aab  Controlled drugs   \n",
       "4fa54513-20c4-4a53-a5db-8a4bb85b1e32  Controlled drugs   \n",
       "4d8604d3-9864-4fd5-a811-f8ce7bed619a  Controlled drugs   \n",
       "\n",
       "                                                              Outcome  \\\n",
       "observation_id                                                          \n",
       "34d76816-cfc2-4bdd-b3a2-bf0c40b12689     A no further action disposal   \n",
       "83c87ec1-e6d4-4bbb-8e0c-159516706359     A no further action disposal   \n",
       "8c2eae4b-035a-492f-92d6-cd27e6c900a1     A no further action disposal   \n",
       "e63a036a-a728-4efe-8e08-7198f56d6d0a     A no further action disposal   \n",
       "40c70aca-1f7f-4efe-8c5b-ade0f2e9937d     A no further action disposal   \n",
       "...                                                               ...   \n",
       "a23dc59d-29fe-48e5-b012-81feb6acfddf     A no further action disposal   \n",
       "425fde18-f7d5-4ebe-baf4-714cadd5a445      Penalty Notice for Disorder   \n",
       "7c249ab7-d4bf-47ef-86bd-aad51d7d2aab     A no further action disposal   \n",
       "4fa54513-20c4-4a53-a5db-8a4bb85b1e32     A no further action disposal   \n",
       "4d8604d3-9864-4fd5-a811-f8ce7bed619a  Caution (simple or conditional)   \n",
       "\n",
       "                                     Outcome linked to object of search  \\\n",
       "observation_id                                                            \n",
       "34d76816-cfc2-4bdd-b3a2-bf0c40b12689                                NaN   \n",
       "83c87ec1-e6d4-4bbb-8e0c-159516706359                                NaN   \n",
       "8c2eae4b-035a-492f-92d6-cd27e6c900a1                                NaN   \n",
       "e63a036a-a728-4efe-8e08-7198f56d6d0a                                NaN   \n",
       "40c70aca-1f7f-4efe-8c5b-ade0f2e9937d                                NaN   \n",
       "...                                                                 ...   \n",
       "a23dc59d-29fe-48e5-b012-81feb6acfddf                                NaN   \n",
       "425fde18-f7d5-4ebe-baf4-714cadd5a445                               True   \n",
       "7c249ab7-d4bf-47ef-86bd-aad51d7d2aab                                NaN   \n",
       "4fa54513-20c4-4a53-a5db-8a4bb85b1e32                                NaN   \n",
       "4d8604d3-9864-4fd5-a811-f8ce7bed619a                                NaN   \n",
       "\n",
       "                                     Removal of more than just outer clothing  \\\n",
       "observation_id                                                                  \n",
       "34d76816-cfc2-4bdd-b3a2-bf0c40b12689                                    False   \n",
       "83c87ec1-e6d4-4bbb-8e0c-159516706359                                    False   \n",
       "8c2eae4b-035a-492f-92d6-cd27e6c900a1                                    False   \n",
       "e63a036a-a728-4efe-8e08-7198f56d6d0a                                    False   \n",
       "40c70aca-1f7f-4efe-8c5b-ade0f2e9937d                                    False   \n",
       "...                                                                       ...   \n",
       "a23dc59d-29fe-48e5-b012-81feb6acfddf                                      NaN   \n",
       "425fde18-f7d5-4ebe-baf4-714cadd5a445                                    False   \n",
       "7c249ab7-d4bf-47ef-86bd-aad51d7d2aab                                    False   \n",
       "4fa54513-20c4-4a53-a5db-8a4bb85b1e32                                    False   \n",
       "4d8604d3-9864-4fd5-a811-f8ce7bed619a                                      NaN   \n",
       "\n",
       "                                                 station  \n",
       "observation_id                                            \n",
       "34d76816-cfc2-4bdd-b3a2-bf0c40b12689  devon-and-cornwall  \n",
       "83c87ec1-e6d4-4bbb-8e0c-159516706359  devon-and-cornwall  \n",
       "8c2eae4b-035a-492f-92d6-cd27e6c900a1  devon-and-cornwall  \n",
       "e63a036a-a728-4efe-8e08-7198f56d6d0a  devon-and-cornwall  \n",
       "40c70aca-1f7f-4efe-8c5b-ade0f2e9937d  devon-and-cornwall  \n",
       "...                                                  ...  \n",
       "a23dc59d-29fe-48e5-b012-81feb6acfddf           wiltshire  \n",
       "425fde18-f7d5-4ebe-baf4-714cadd5a445           wiltshire  \n",
       "7c249ab7-d4bf-47ef-86bd-aad51d7d2aab           wiltshire  \n",
       "4fa54513-20c4-4a53-a5db-8a4bb85b1e32           wiltshire  \n",
       "4d8604d3-9864-4fd5-a811-f8ce7bed619a           wiltshire  \n",
       "\n",
       "[660611 rows x 15 columns]"
      ]
     },
     "execution_count": 16,
     "metadata": {},
     "output_type": "execute_result"
    }
   ],
   "source": [
    "df = pd.read_csv(\"./data/train.csv\", index_col = \"observation_id\")\n",
    "df"
   ]
  },
  {
   "cell_type": "markdown",
   "id": "charitable-arkansas",
   "metadata": {},
   "source": [
    "## Gender"
   ]
  },
  {
   "cell_type": "code",
   "execution_count": 49,
   "id": "polar-pierre",
   "metadata": {},
   "outputs": [
    {
     "data": {
      "text/plain": [
       "(3, array(['Male', 'Female', 'Other'], dtype=object))"
      ]
     },
     "execution_count": 49,
     "metadata": {},
     "output_type": "execute_result"
    }
   ],
   "source": [
    "df.Gender.nunique(), df.Gender.unique()"
   ]
  },
  {
   "cell_type": "code",
   "execution_count": 48,
   "id": "entitled-voice",
   "metadata": {},
   "outputs": [],
   "source": [
    "# dropping Other value\n",
    "df_gender = df[df['Gender'] != 'Other']"
   ]
  },
  {
   "cell_type": "code",
   "execution_count": 37,
   "id": "endless-shelf",
   "metadata": {},
   "outputs": [],
   "source": [
    "df_gender_count = df_gender.groupby(\"station\").count()"
   ]
  },
  {
   "cell_type": "code",
   "execution_count": 38,
   "id": "colonial-declaration",
   "metadata": {},
   "outputs": [],
   "source": [
    "Male_station_df = df_gender[df_gender[\"Gender\"] == \"Male\"].groupby(\"station\").count()"
   ]
  },
  {
   "cell_type": "code",
   "execution_count": 32,
   "id": "injured-healthcare",
   "metadata": {},
   "outputs": [
    {
     "data": {
      "text/plain": [
       "<AxesSubplot:xlabel='station'>"
      ]
     },
     "execution_count": 32,
     "metadata": {},
     "output_type": "execute_result"
    },
    {
     "data": {
      "image/png": "[encoded data removed]",
      "text/plain": [
       "<Figure size 432x288 with 1 Axes>"
      ]
     },
     "metadata": {
      "needs_background": "light"
     },
     "output_type": "display_data"
    }
   ],
   "source": [
    "Male_station_df[\"Gender\"].plot(kind=\"bar\")"
   ]
  },
  {
   "cell_type": "markdown",
   "id": "athletic-messenger",
   "metadata": {},
   "source": [
    "This is the quantity of Males that are stopped on each station, we probably want to turn this into a normalized value, maybe divide by the quantity of people that are stopped overall in each station"
   ]
  },
  {
   "cell_type": "code",
   "execution_count": 42,
   "id": "joint-knowing",
   "metadata": {},
   "outputs": [
    {
     "data": {
      "text/plain": [
       "<AxesSubplot:xlabel='station'>"
      ]
     },
     "execution_count": 42,
     "metadata": {},
     "output_type": "execute_result"
    },
    {
     "data": {
      "image/png": "[encoded data removed]",
      "text/plain": [
       "<Figure size 432x288 with 1 Axes>"
      ]
     },
     "metadata": {
      "needs_background": "light"
     },
     "output_type": "display_data"
    }
   ],
   "source": [
    "Male_station_df_norm = (Male_station_df[\"Gender\"]/df_gender_count[\"Gender\"])\n",
    "Male_station_df_norm.plot(kind=\"bar\")"
   ]
  },
  {
   "cell_type": "markdown",
   "id": "still-glance",
   "metadata": {},
   "source": [
    "For Males, normalized values seemed very close together all between 0.8 and 1\n",
    "\n",
    "Let's check on the Females"
   ]
  },
  {
   "cell_type": "code",
   "execution_count": 131,
   "id": "thorough-ranch",
   "metadata": {},
   "outputs": [],
   "source": [
    "Female_station_df = df_gender[df_gender[\"Gender\"] == \"Female\"].groupby(\"station\").count()"
   ]
  },
  {
   "cell_type": "code",
   "execution_count": 132,
   "id": "possible-penguin",
   "metadata": {},
   "outputs": [
    {
     "data": {
      "text/plain": [
       "<AxesSubplot:xlabel='station'>"
      ]
     },
     "execution_count": 132,
     "metadata": {},
     "output_type": "execute_result"
    },
    {
     "data": {
      "image/png": "[encoded data removed]",
      "text/plain": [
       "<Figure size 432x288 with 1 Axes>"
      ]
     },
     "metadata": {
      "needs_background": "light"
     },
     "output_type": "display_data"
    }
   ],
   "source": [
    "Female_station_df_norm = (Female_station_df[\"Gender\"]/df_gender_count[\"Gender\"])\n",
    "Female_station_df_norm.plot(kind=\"bar\")"
   ]
  },
  {
   "cell_type": "markdown",
   "id": "indian-fiber",
   "metadata": {},
   "source": [
    "There are a bit more fluctuations around the Female class\n",
    "\n",
    "Now make a function that loops this and checks if any break this"
   ]
  },
  {
   "cell_type": "code",
   "execution_count": 126,
   "id": "bored-option",
   "metadata": {},
   "outputs": [],
   "source": [
    "def verifiy_discrimination(df, sensitive_column=\"Gender\", max_dif=0.1):\n",
    "    \"\"\"\n",
    "        Groups the dataframe by station, calculates the percentage for each sensitive_column and compares the values\n",
    "    between stations. If any have a geater difference than max_diff then claim there is discrimination\n",
    "    \"\"\"\n",
    "    df_station = df.copy()\n",
    "    # Get a list of the sensitive classes\n",
    "    sensitive_classes = df_station[sensitive_column].unique()\n",
    "    \n",
    "    # Group the DF by station and keep the total values\n",
    "    df_total_vals = df_station.groupby(\"station\").count()\n",
    "    \n",
    "    problematic_departments = []\n",
    "    non_problematic_departments = []\n",
    "    for sens_class in sensitive_classes:\n",
    "        # print(df_station)\n",
    "        # group the df and count how many occurrences in the class\n",
    "        df_grouped = df_station[df_station[sensitive_column] == sens_class].groupby(\"station\").count()\n",
    "        \n",
    "        # normalise the values\n",
    "        df_normed = (df_grouped[sensitive_column]/df_total_vals[sensitive_column])\n",
    "\n",
    "        for station, value in df_normed.items():\n",
    "            # grab the series onwards\n",
    "            normed_sliced_df = df_normed.loc[station:]\n",
    "            \n",
    "            for station2, value2 in normed_sliced_df.items():\n",
    "                subt = np.abs(value - value2)\n",
    "                # print(station, station2)\n",
    "                if subt > max_dif:\n",
    "                    # found discrimination\n",
    "                    problematic_departments.append((sens_class, subt, station, station2))\n",
    "                else:\n",
    "                    non_problematic_departments.append((sens_class, subt, station, station2))\n",
    "        \n",
    "    \n",
    "    return (problematic_departments, non_problematic_departments)"
   ]
  },
  {
   "cell_type": "code",
   "execution_count": 127,
   "id": "interim-nicaragua",
   "metadata": {},
   "outputs": [
    {
     "name": "stdout",
     "output_type": "stream",
     "text": [
      "[('Male', 0.10982733946784062, 'merseyside', 'north-yorkshire'), ('Male', 0.10293748532434699, 'metropolitan', 'north-yorkshire'), ('Male', 0.10062704432250724, 'north-yorkshire', 'nottinghamshire'), ('Male', 0.10274697741726202, 'north-yorkshire', 'west-yorkshire'), ('Female', 0.10982733946784058, 'merseyside', 'north-yorkshire'), ('Female', 0.10293748532434692, 'metropolitan', 'north-yorkshire'), ('Female', 0.10062704432250726, 'north-yorkshire', 'nottinghamshire'), ('Female', 0.10274697741726202, 'north-yorkshire', 'west-yorkshire')]\n"
     ]
    }
   ],
   "source": [
    "problematic_departments, non_problematic_deparments = verifiy_discrimination(df_gender)\n",
    "print(problematic_departments)"
   ]
  },
  {
   "cell_type": "markdown",
   "id": "arbitrary-sender",
   "metadata": {},
   "source": [
    "Above we have the results. Which gender is being discriminated and in between what stations. The default value here is if the difference between stations is of more than 10% and we have the same 3 departments that discriminate each gender (which in retrospective makes sense, since there are only 2 classes)"
   ]
  },
  {
   "cell_type": "markdown",
   "id": "stock-introduction",
   "metadata": {},
   "source": [
    "## Analysing discrimination as time goes by\n",
    "\n",
    "Now let's try and add time into factor here. Check if this occurs more specifically in the latest months"
   ]
  },
  {
   "cell_type": "code",
   "execution_count": null,
   "id": "alone-search",
   "metadata": {},
   "outputs": [],
   "source": []
  }
 ],
 "metadata": {
  "kernelspec": {
   "display_name": "Python 3",
   "language": "python",
   "name": "python3"
  },
  "language_info": {
   "codemirror_mode": {
    "name": "ipython",
    "version": 3
   },
   "file_extension": ".py",
   "mimetype": "text/x-python",
   "name": "python",
   "nbconvert_exporter": "python",
   "pygments_lexer": "ipython3",
   "version": "3.8.5"
  }
 },
 "nbformat": 4,
 "nbformat_minor": 5
}
